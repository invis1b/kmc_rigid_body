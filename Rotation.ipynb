{
 "cells": [
  {
   "cell_type": "code",
   "execution_count": 9,
   "metadata": {},
   "outputs": [],
   "source": [
    "import numpy as np\n",
    "import sympy as sym"
   ]
  },
  {
   "cell_type": "code",
   "execution_count": 10,
   "metadata": {},
   "outputs": [],
   "source": [
    "from numpy import cross, eye, dot\n",
    "from scipy.linalg import expm, norm\n",
    "\n",
    "def M(axis, theta):\n",
    "    return expm(cross(eye(3), axis/norm(axis)*theta))\n",
    "\n",
    "\n",
    "\n",
    "\n",
    "def rotate(v,axis,theta):\n",
    "    return dot(M(axis,theta),v)"
   ]
  },
  {
   "cell_type": "code",
   "execution_count": 11,
   "metadata": {},
   "outputs": [
    {
     "data": {
      "text/plain": [
       "array([[ 0.,  0.,  1.],\n",
       "       [ 0.,  0.,  0.],\n",
       "       [-1.,  0.,  0.]])"
      ]
     },
     "execution_count": 11,
     "metadata": {},
     "output_type": "execute_result"
    }
   ],
   "source": [
    "cross(eye(3), [0,1,0])\n"
   ]
  },
  {
   "cell_type": "code",
   "execution_count": 12,
   "metadata": {},
   "outputs": [],
   "source": [
    "origin=np.array([0,0,0])\n",
    "arm_A1=np.array([1,0,0.47])\n",
    "arm_A2=np.array([1,0,-0.47])\n",
    "arm_B1=rotate(arm_A1,[0,0,1],np.pi*2/3)\n",
    "arm_B2=rotate(arm_A2,[0,0,1],np.pi*2/3)\n",
    "arm_C1=rotate(arm_A1,[0,0,1],np.pi*4/3)\n",
    "arm_C2=rotate(arm_A2,[0,0,1],np.pi*4/3)\n",
    "particle_array=np.array([origin,arm_A1,arm_A2,arm_B1,arm_B2,arm_C1,arm_C2])"
   ]
  },
  {
   "cell_type": "code",
   "execution_count": 13,
   "metadata": {},
   "outputs": [
    {
     "data": {
      "text/plain": [
       "array([[ 0.       ,  0.       ,  0.       ],\n",
       "       [ 1.       ,  0.       ,  0.47     ],\n",
       "       [ 1.       ,  0.       , -0.47     ],\n",
       "       [-0.5      ,  0.8660254,  0.47     ],\n",
       "       [-0.5      ,  0.8660254, -0.47     ],\n",
       "       [-0.5      , -0.8660254,  0.47     ],\n",
       "       [-0.5      , -0.8660254, -0.47     ]])"
      ]
     },
     "execution_count": 13,
     "metadata": {},
     "output_type": "execute_result"
    }
   ],
   "source": [
    "#coordinates of the patches in the reference state\n",
    "particle_array"
   ]
  },
  {
   "cell_type": "code",
   "execution_count": 14,
   "metadata": {},
   "outputs": [],
   "source": [
    "from sympy import *"
   ]
  },
  {
   "cell_type": "code",
   "execution_count": 15,
   "metadata": {},
   "outputs": [],
   "source": [
    "alpha=Symbol('alpha') \n",
    "beta=Symbol('beta') \n",
    "gamma=Symbol('gamma') "
   ]
  },
  {
   "cell_type": "code",
   "execution_count": 16,
   "metadata": {},
   "outputs": [],
   "source": [
    "r1=Matrix([[cos(gamma),        -sin(gamma),        0      ], \n",
    "             [sin(gamma),        cos(gamma), 0], \n",
    "             [0,        0,  1]])"
   ]
  },
  {
   "cell_type": "code",
   "execution_count": 17,
   "metadata": {},
   "outputs": [],
   "source": [
    "r2=Matrix([[cos(beta),        0,sin(beta),             ], \n",
    "             [0,        1, 0], \n",
    "             [-sin(beta),        0,  cos(beta)]])\n",
    "r3=Matrix([[cos(alpha),        -sin(alpha),        0      ], \n",
    "             [sin(alpha),        cos(alpha), 0], \n",
    "             [0,        0,  1]])"
   ]
  },
  {
   "cell_type": "code",
   "execution_count": 18,
   "metadata": {},
   "outputs": [],
   "source": [
    "rmatrix=r3*r2*r1"
   ]
  },
  {
   "cell_type": "code",
   "execution_count": 22,
   "metadata": {},
   "outputs": [
    {
     "data": {
      "text/latex": [
       "$\\displaystyle \\left[\\begin{matrix}- \\sin{\\left(\\alpha \\right)} \\sin{\\left(\\gamma \\right)} + \\cos{\\left(\\alpha \\right)} \\cos{\\left(\\beta \\right)} \\cos{\\left(\\gamma \\right)} & - \\sin{\\left(\\alpha \\right)} \\cos{\\left(\\gamma \\right)} - \\sin{\\left(\\gamma \\right)} \\cos{\\left(\\alpha \\right)} \\cos{\\left(\\beta \\right)} & \\sin{\\left(\\beta \\right)} \\cos{\\left(\\alpha \\right)}\\\\\\sin{\\left(\\alpha \\right)} \\cos{\\left(\\beta \\right)} \\cos{\\left(\\gamma \\right)} + \\sin{\\left(\\gamma \\right)} \\cos{\\left(\\alpha \\right)} & - \\sin{\\left(\\alpha \\right)} \\sin{\\left(\\gamma \\right)} \\cos{\\left(\\beta \\right)} + \\cos{\\left(\\alpha \\right)} \\cos{\\left(\\gamma \\right)} & \\sin{\\left(\\alpha \\right)} \\sin{\\left(\\beta \\right)}\\\\- \\sin{\\left(\\beta \\right)} \\cos{\\left(\\gamma \\right)} & \\sin{\\left(\\beta \\right)} \\sin{\\left(\\gamma \\right)} & \\cos{\\left(\\beta \\right)}\\end{matrix}\\right]$"
      ],
      "text/plain": [
       "Matrix([\n",
       "[-sin(alpha)*sin(gamma) + cos(alpha)*cos(beta)*cos(gamma), -sin(alpha)*cos(gamma) - sin(gamma)*cos(alpha)*cos(beta), sin(beta)*cos(alpha)],\n",
       "[ sin(alpha)*cos(beta)*cos(gamma) + sin(gamma)*cos(alpha), -sin(alpha)*sin(gamma)*cos(beta) + cos(alpha)*cos(gamma), sin(alpha)*sin(beta)],\n",
       "[                                   -sin(beta)*cos(gamma),                                     sin(beta)*sin(gamma),            cos(beta)]])"
      ]
     },
     "execution_count": 22,
     "metadata": {},
     "output_type": "execute_result"
    }
   ],
   "source": [
    "rmatrix"
   ]
  },
  {
   "cell_type": "code",
   "execution_count": 19,
   "metadata": {},
   "outputs": [],
   "source": [
    "results=(rmatrix*particle_array.T).T"
   ]
  },
  {
   "cell_type": "code",
   "execution_count": 20,
   "metadata": {
    "scrolled": true
   },
   "outputs": [
    {
     "data": {
      "text/latex": [
       "$\\displaystyle \\left[\\begin{matrix}0 & 0 & 0\\\\- 1.0 \\sin{\\left(\\alpha \\right)} \\sin{\\left(\\gamma \\right)} + 0.47 \\sin{\\left(\\beta \\right)} \\cos{\\left(\\alpha \\right)} + 1.0 \\cos{\\left(\\alpha \\right)} \\cos{\\left(\\beta \\right)} \\cos{\\left(\\gamma \\right)} & 0.47 \\sin{\\left(\\alpha \\right)} \\sin{\\left(\\beta \\right)} + 1.0 \\sin{\\left(\\alpha \\right)} \\cos{\\left(\\beta \\right)} \\cos{\\left(\\gamma \\right)} + 1.0 \\sin{\\left(\\gamma \\right)} \\cos{\\left(\\alpha \\right)} & - 1.0 \\sin{\\left(\\beta \\right)} \\cos{\\left(\\gamma \\right)} + 0.47 \\cos{\\left(\\beta \\right)}\\\\- 1.0 \\sin{\\left(\\alpha \\right)} \\sin{\\left(\\gamma \\right)} - 0.47 \\sin{\\left(\\beta \\right)} \\cos{\\left(\\alpha \\right)} + 1.0 \\cos{\\left(\\alpha \\right)} \\cos{\\left(\\beta \\right)} \\cos{\\left(\\gamma \\right)} & - 0.47 \\sin{\\left(\\alpha \\right)} \\sin{\\left(\\beta \\right)} + 1.0 \\sin{\\left(\\alpha \\right)} \\cos{\\left(\\beta \\right)} \\cos{\\left(\\gamma \\right)} + 1.0 \\sin{\\left(\\gamma \\right)} \\cos{\\left(\\alpha \\right)} & - 1.0 \\sin{\\left(\\beta \\right)} \\cos{\\left(\\gamma \\right)} - 0.47 \\cos{\\left(\\beta \\right)}\\\\0.5 \\sin{\\left(\\alpha \\right)} \\sin{\\left(\\gamma \\right)} - 0.86602 \\sin{\\left(\\alpha \\right)} \\cos{\\left(\\gamma \\right)} + 0.47 \\sin{\\left(\\beta \\right)} \\cos{\\left(\\alpha \\right)} - 0.86602 \\sin{\\left(\\gamma \\right)} \\cos{\\left(\\alpha \\right)} \\cos{\\left(\\beta \\right)} - 0.5 \\cos{\\left(\\alpha \\right)} \\cos{\\left(\\beta \\right)} \\cos{\\left(\\gamma \\right)} & 0.47 \\sin{\\left(\\alpha \\right)} \\sin{\\left(\\beta \\right)} - 0.86602 \\sin{\\left(\\alpha \\right)} \\sin{\\left(\\gamma \\right)} \\cos{\\left(\\beta \\right)} - 0.5 \\sin{\\left(\\alpha \\right)} \\cos{\\left(\\beta \\right)} \\cos{\\left(\\gamma \\right)} - 0.5 \\sin{\\left(\\gamma \\right)} \\cos{\\left(\\alpha \\right)} + 0.86602 \\cos{\\left(\\alpha \\right)} \\cos{\\left(\\gamma \\right)} & 0.86602 \\sin{\\left(\\beta \\right)} \\sin{\\left(\\gamma \\right)} + 0.5 \\sin{\\left(\\beta \\right)} \\cos{\\left(\\gamma \\right)} + 0.47 \\cos{\\left(\\beta \\right)}\\\\0.5 \\sin{\\left(\\alpha \\right)} \\sin{\\left(\\gamma \\right)} - 0.86602 \\sin{\\left(\\alpha \\right)} \\cos{\\left(\\gamma \\right)} - 0.47 \\sin{\\left(\\beta \\right)} \\cos{\\left(\\alpha \\right)} - 0.86602 \\sin{\\left(\\gamma \\right)} \\cos{\\left(\\alpha \\right)} \\cos{\\left(\\beta \\right)} - 0.5 \\cos{\\left(\\alpha \\right)} \\cos{\\left(\\beta \\right)} \\cos{\\left(\\gamma \\right)} & - 0.47 \\sin{\\left(\\alpha \\right)} \\sin{\\left(\\beta \\right)} - 0.86602 \\sin{\\left(\\alpha \\right)} \\sin{\\left(\\gamma \\right)} \\cos{\\left(\\beta \\right)} - 0.5 \\sin{\\left(\\alpha \\right)} \\cos{\\left(\\beta \\right)} \\cos{\\left(\\gamma \\right)} - 0.5 \\sin{\\left(\\gamma \\right)} \\cos{\\left(\\alpha \\right)} + 0.86602 \\cos{\\left(\\alpha \\right)} \\cos{\\left(\\gamma \\right)} & 0.86602 \\sin{\\left(\\beta \\right)} \\sin{\\left(\\gamma \\right)} + 0.5 \\sin{\\left(\\beta \\right)} \\cos{\\left(\\gamma \\right)} - 0.47 \\cos{\\left(\\beta \\right)}\\\\0.5 \\sin{\\left(\\alpha \\right)} \\sin{\\left(\\gamma \\right)} + 0.86602 \\sin{\\left(\\alpha \\right)} \\cos{\\left(\\gamma \\right)} + 0.47 \\sin{\\left(\\beta \\right)} \\cos{\\left(\\alpha \\right)} + 0.86602 \\sin{\\left(\\gamma \\right)} \\cos{\\left(\\alpha \\right)} \\cos{\\left(\\beta \\right)} - 0.5 \\cos{\\left(\\alpha \\right)} \\cos{\\left(\\beta \\right)} \\cos{\\left(\\gamma \\right)} & 0.47 \\sin{\\left(\\alpha \\right)} \\sin{\\left(\\beta \\right)} + 0.86602 \\sin{\\left(\\alpha \\right)} \\sin{\\left(\\gamma \\right)} \\cos{\\left(\\beta \\right)} - 0.5 \\sin{\\left(\\alpha \\right)} \\cos{\\left(\\beta \\right)} \\cos{\\left(\\gamma \\right)} - 0.5 \\sin{\\left(\\gamma \\right)} \\cos{\\left(\\alpha \\right)} - 0.86602 \\cos{\\left(\\alpha \\right)} \\cos{\\left(\\gamma \\right)} & - 0.86602 \\sin{\\left(\\beta \\right)} \\sin{\\left(\\gamma \\right)} + 0.5 \\sin{\\left(\\beta \\right)} \\cos{\\left(\\gamma \\right)} + 0.47 \\cos{\\left(\\beta \\right)}\\\\0.5 \\sin{\\left(\\alpha \\right)} \\sin{\\left(\\gamma \\right)} + 0.86602 \\sin{\\left(\\alpha \\right)} \\cos{\\left(\\gamma \\right)} - 0.47 \\sin{\\left(\\beta \\right)} \\cos{\\left(\\alpha \\right)} + 0.86602 \\sin{\\left(\\gamma \\right)} \\cos{\\left(\\alpha \\right)} \\cos{\\left(\\beta \\right)} - 0.5 \\cos{\\left(\\alpha \\right)} \\cos{\\left(\\beta \\right)} \\cos{\\left(\\gamma \\right)} & - 0.47 \\sin{\\left(\\alpha \\right)} \\sin{\\left(\\beta \\right)} + 0.86602 \\sin{\\left(\\alpha \\right)} \\sin{\\left(\\gamma \\right)} \\cos{\\left(\\beta \\right)} - 0.5 \\sin{\\left(\\alpha \\right)} \\cos{\\left(\\beta \\right)} \\cos{\\left(\\gamma \\right)} - 0.5 \\sin{\\left(\\gamma \\right)} \\cos{\\left(\\alpha \\right)} - 0.86602 \\cos{\\left(\\alpha \\right)} \\cos{\\left(\\gamma \\right)} & - 0.86602 \\sin{\\left(\\beta \\right)} \\sin{\\left(\\gamma \\right)} + 0.5 \\sin{\\left(\\beta \\right)} \\cos{\\left(\\gamma \\right)} - 0.47 \\cos{\\left(\\beta \\right)}\\end{matrix}\\right]$"
      ],
      "text/plain": [
       "Matrix([\n",
       "[                                                                                                                                                                    0,                                                                                                                                                                      0,                                                                         0],\n",
       "[                                                                         -1.0*sin(alpha)*sin(gamma) + 0.47*sin(beta)*cos(alpha) + 1.0*cos(alpha)*cos(beta)*cos(gamma),                                                                            0.47*sin(alpha)*sin(beta) + 1.0*sin(alpha)*cos(beta)*cos(gamma) + 1.0*sin(gamma)*cos(alpha),                                -1.0*sin(beta)*cos(gamma) + 0.47*cos(beta)],\n",
       "[                                                                         -1.0*sin(alpha)*sin(gamma) - 0.47*sin(beta)*cos(alpha) + 1.0*cos(alpha)*cos(beta)*cos(gamma),                                                                           -0.47*sin(alpha)*sin(beta) + 1.0*sin(alpha)*cos(beta)*cos(gamma) + 1.0*sin(gamma)*cos(alpha),                                -1.0*sin(beta)*cos(gamma) - 0.47*cos(beta)],\n",
       "[0.5*sin(alpha)*sin(gamma) - 0.86602*sin(alpha)*cos(gamma) + 0.47*sin(beta)*cos(alpha) - 0.86602*sin(gamma)*cos(alpha)*cos(beta) - 0.5*cos(alpha)*cos(beta)*cos(gamma),  0.47*sin(alpha)*sin(beta) - 0.86602*sin(alpha)*sin(gamma)*cos(beta) - 0.5*sin(alpha)*cos(beta)*cos(gamma) - 0.5*sin(gamma)*cos(alpha) + 0.86602*cos(alpha)*cos(gamma),  0.86602*sin(beta)*sin(gamma) + 0.5*sin(beta)*cos(gamma) + 0.47*cos(beta)],\n",
       "[0.5*sin(alpha)*sin(gamma) - 0.86602*sin(alpha)*cos(gamma) - 0.47*sin(beta)*cos(alpha) - 0.86602*sin(gamma)*cos(alpha)*cos(beta) - 0.5*cos(alpha)*cos(beta)*cos(gamma), -0.47*sin(alpha)*sin(beta) - 0.86602*sin(alpha)*sin(gamma)*cos(beta) - 0.5*sin(alpha)*cos(beta)*cos(gamma) - 0.5*sin(gamma)*cos(alpha) + 0.86602*cos(alpha)*cos(gamma),  0.86602*sin(beta)*sin(gamma) + 0.5*sin(beta)*cos(gamma) - 0.47*cos(beta)],\n",
       "[0.5*sin(alpha)*sin(gamma) + 0.86602*sin(alpha)*cos(gamma) + 0.47*sin(beta)*cos(alpha) + 0.86602*sin(gamma)*cos(alpha)*cos(beta) - 0.5*cos(alpha)*cos(beta)*cos(gamma),  0.47*sin(alpha)*sin(beta) + 0.86602*sin(alpha)*sin(gamma)*cos(beta) - 0.5*sin(alpha)*cos(beta)*cos(gamma) - 0.5*sin(gamma)*cos(alpha) - 0.86602*cos(alpha)*cos(gamma), -0.86602*sin(beta)*sin(gamma) + 0.5*sin(beta)*cos(gamma) + 0.47*cos(beta)],\n",
       "[0.5*sin(alpha)*sin(gamma) + 0.86602*sin(alpha)*cos(gamma) - 0.47*sin(beta)*cos(alpha) + 0.86602*sin(gamma)*cos(alpha)*cos(beta) - 0.5*cos(alpha)*cos(beta)*cos(gamma), -0.47*sin(alpha)*sin(beta) + 0.86602*sin(alpha)*sin(gamma)*cos(beta) - 0.5*sin(alpha)*cos(beta)*cos(gamma) - 0.5*sin(gamma)*cos(alpha) - 0.86602*cos(alpha)*cos(gamma), -0.86602*sin(beta)*sin(gamma) + 0.5*sin(beta)*cos(gamma) - 0.47*cos(beta)]])"
      ]
     },
     "execution_count": 20,
     "metadata": {},
     "output_type": "execute_result"
    }
   ],
   "source": [
    "#coordinates of the patches after the rotation defined by Euler angles (alpha,beta, gamma)\n",
    "results=N(results,5)\n",
    "results"
   ]
  },
  {
   "cell_type": "code",
   "execution_count": 21,
   "metadata": {},
   "outputs": [
    {
     "name": "stdout",
     "output_type": "stream",
     "text": [
      "// Not supported in C:\n",
      "// ImmutableDenseMatrix\n",
      "Matrix([\n",
      "[                                                                                                                                                                    0,                                                                                                                                                                      0,                                                                         0],\n",
      "[                                                                         -1.0*sin(alpha)*sin(gamma) + 0.47*sin(beta)*cos(alpha) + 1.0*cos(alpha)*cos(beta)*cos(gamma),                                                                            0.47*sin(alpha)*sin(beta) + 1.0*sin(alpha)*cos(beta)*cos(gamma) + 1.0*sin(gamma)*cos(alpha),                                -1.0*sin(beta)*cos(gamma) + 0.47*cos(beta)],\n",
      "[                                                                         -1.0*sin(alpha)*sin(gamma) - 0.47*sin(beta)*cos(alpha) + 1.0*cos(alpha)*cos(beta)*cos(gamma),                                                                           -0.47*sin(alpha)*sin(beta) + 1.0*sin(alpha)*cos(beta)*cos(gamma) + 1.0*sin(gamma)*cos(alpha),                                -1.0*sin(beta)*cos(gamma) - 0.47*cos(beta)],\n",
      "[0.5*sin(alpha)*sin(gamma) - 0.86602*sin(alpha)*cos(gamma) + 0.47*sin(beta)*cos(alpha) - 0.86602*sin(gamma)*cos(alpha)*cos(beta) - 0.5*cos(alpha)*cos(beta)*cos(gamma),  0.47*sin(alpha)*sin(beta) - 0.86602*sin(alpha)*sin(gamma)*cos(beta) - 0.5*sin(alpha)*cos(beta)*cos(gamma) - 0.5*sin(gamma)*cos(alpha) + 0.86602*cos(alpha)*cos(gamma),  0.86602*sin(beta)*sin(gamma) + 0.5*sin(beta)*cos(gamma) + 0.47*cos(beta)],\n",
      "[0.5*sin(alpha)*sin(gamma) - 0.86602*sin(alpha)*cos(gamma) - 0.47*sin(beta)*cos(alpha) - 0.86602*sin(gamma)*cos(alpha)*cos(beta) - 0.5*cos(alpha)*cos(beta)*cos(gamma), -0.47*sin(alpha)*sin(beta) - 0.86602*sin(alpha)*sin(gamma)*cos(beta) - 0.5*sin(alpha)*cos(beta)*cos(gamma) - 0.5*sin(gamma)*cos(alpha) + 0.86602*cos(alpha)*cos(gamma),  0.86602*sin(beta)*sin(gamma) + 0.5*sin(beta)*cos(gamma) - 0.47*cos(beta)],\n",
      "[0.5*sin(alpha)*sin(gamma) + 0.86602*sin(alpha)*cos(gamma) + 0.47*sin(beta)*cos(alpha) + 0.86602*sin(gamma)*cos(alpha)*cos(beta) - 0.5*cos(alpha)*cos(beta)*cos(gamma),  0.47*sin(alpha)*sin(beta) + 0.86602*sin(alpha)*sin(gamma)*cos(beta) - 0.5*sin(alpha)*cos(beta)*cos(gamma) - 0.5*sin(gamma)*cos(alpha) - 0.86602*cos(alpha)*cos(gamma), -0.86602*sin(beta)*sin(gamma) + 0.5*sin(beta)*cos(gamma) + 0.47*cos(beta)],\n",
      "[0.5*sin(alpha)*sin(gamma) + 0.86602*sin(alpha)*cos(gamma) - 0.47*sin(beta)*cos(alpha) + 0.86602*sin(gamma)*cos(alpha)*cos(beta) - 0.5*cos(alpha)*cos(beta)*cos(gamma), -0.47*sin(alpha)*sin(beta) + 0.86602*sin(alpha)*sin(gamma)*cos(beta) - 0.5*sin(alpha)*cos(beta)*cos(gamma) - 0.5*sin(gamma)*cos(alpha) - 0.86602*cos(alpha)*cos(gamma), -0.86602*sin(beta)*sin(gamma) + 0.5*sin(beta)*cos(gamma) - 0.47*cos(beta)]])\n"
     ]
    }
   ],
   "source": [
    "#codes that can be used in C++\n",
    "print(ccode(results))\n"
   ]
  },
  {
   "cell_type": "code",
   "execution_count": null,
   "metadata": {},
   "outputs": [],
   "source": []
  }
 ],
 "metadata": {
  "kernelspec": {
   "display_name": "Python 3",
   "language": "python",
   "name": "python3"
  },
  "language_info": {
   "codemirror_mode": {
    "name": "ipython",
    "version": 3
   },
   "file_extension": ".py",
   "mimetype": "text/x-python",
   "name": "python",
   "nbconvert_exporter": "python",
   "pygments_lexer": "ipython3",
   "version": "3.7.4"
  }
 },
 "nbformat": 4,
 "nbformat_minor": 5
}
