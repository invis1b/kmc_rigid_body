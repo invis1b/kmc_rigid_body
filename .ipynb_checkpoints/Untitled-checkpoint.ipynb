{
 "cells": [
  {
   "cell_type": "code",
   "execution_count": 1,
   "id": "152061a0",
   "metadata": {},
   "outputs": [],
   "source": [
    "import numpy as np"
   ]
  },
  {
   "cell_type": "code",
   "execution_count": 4,
   "id": "dd4da377",
   "metadata": {},
   "outputs": [],
   "source": [
    "class bond():\n",
    "     def __init__(self, molecule1, molecule2,arm1,arm2):\n",
    "        self.molecule1 = molecule1\n",
    "        self.molecule2 = molecule2\n",
    "        self.arm1 = arm1\n",
    "        self.arm2 = arm2\n",
    "        self.time=0\n",
    "        \n"
   ]
  },
  {
   "cell_type": "code",
   "execution_count": 5,
   "id": "669f1eb4",
   "metadata": {},
   "outputs": [],
   "source": [
    "#read bondlist file\n",
    "def read_bond(filename):\n",
    "    bond_traj=[]\n",
    "    file1 = open(filename, 'r')\n",
    "    Lines = file1.readlines()\n",
    "    jump=False\n",
    "    for line in Lines:\n",
    "        if line==\"TIMESTEP\\n\":\n",
    "            bond_array_one=np.empty([0,5])\n",
    "            jump=True\n",
    "        if jump==True:\n",
    "            jump==false\n",
    "            continue\n",
    "        bond_array_one=np.concatenate(bond_array_one,np.append(np.array(line.split(),dtype=int),0))\n",
    "       "
   ]
  },
  {
   "cell_type": "code",
   "execution_count": 3,
   "id": "b6be70e6",
   "metadata": {},
   "outputs": [
    {
     "data": {
      "text/plain": [
       "array(1)"
      ]
     },
     "execution_count": 3,
     "metadata": {},
     "output_type": "execute_result"
    }
   ],
   "source": [
    "a=np.array(1)\n",
    "a"
   ]
  },
  {
   "cell_type": "code",
   "execution_count": 6,
   "id": "946ea6e9",
   "metadata": {},
   "outputs": [],
   "source": [
    "file1 = open('Bondlist.txt', 'r')\n",
    "Lines = file1.readlines()"
   ]
  },
  {
   "cell_type": "code",
   "execution_count": 38,
   "id": "e254a833",
   "metadata": {},
   "outputs": [
    {
     "data": {
      "text/plain": [
       "array([ 9, 37,  4,  5,  0])"
      ]
     },
     "execution_count": 38,
     "metadata": {},
     "output_type": "execute_result"
    }
   ],
   "source": [
    "np.append(np.array(Lines[3].split(),dtype=int),0)"
   ]
  },
  {
   "cell_type": "code",
   "execution_count": 35,
   "id": "7ef2df46",
   "metadata": {},
   "outputs": [
    {
     "data": {
      "text/plain": [
       "(2, 1)"
      ]
     },
     "execution_count": 35,
     "metadata": {},
     "output_type": "execute_result"
    }
   ],
   "source": [
    "np.array([[1],[2]]).shape"
   ]
  },
  {
   "cell_type": "code",
   "execution_count": null,
   "id": "8e3d115a",
   "metadata": {},
   "outputs": [],
   "source": []
  }
 ],
 "metadata": {
  "kernelspec": {
   "display_name": "Python 3 (ipykernel)",
   "language": "python",
   "name": "python3"
  },
  "language_info": {
   "codemirror_mode": {
    "name": "ipython",
    "version": 3
   },
   "file_extension": ".py",
   "mimetype": "text/x-python",
   "name": "python",
   "nbconvert_exporter": "python",
   "pygments_lexer": "ipython3",
   "version": "3.11.3"
  }
 },
 "nbformat": 4,
 "nbformat_minor": 5
}
